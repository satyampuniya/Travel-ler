{
 "cells": [
  {
   "cell_type": "code",
   "execution_count": 7,
   "id": "39da9278",
   "metadata": {},
   "outputs": [
    {
     "data": {
      "text/plain": [
       "DeltaGenerator()"
      ]
     },
     "execution_count": 7,
     "metadata": {},
     "output_type": "execute_result"
    }
   ],
   "source": [
    "import requests\n",
    "import os\n",
    "from streamlit_lottie import st_lottie\n",
    "import streamlit as st\n",
    "\n",
    "st.set_page_config(page_title = \"Travel-ler\" , page_icon = \":minibus:\", layout = \"wide\")\n",
    "\n",
    "def get_lottie(url):\n",
    "    r = requests.get(url)\n",
    "    if r.status_code!=200:\n",
    "        return None\n",
    "    return r.json()\n",
    "\n",
    "#ASSET INVENTORY\n",
    "lottie_url = get_lottie(\"https://assets9.lottiefiles.com/packages/lf20_bhebjzpu.json\")\n",
    "\n",
    "#HEADER SECTION\n",
    "with st.container():\n",
    "    lc, rc = st.columns([3,2])\n",
    "    with lc:\n",
    "        st.title(\"Book a traveller with Travel-ler\")\n",
    "        st.write(\"Booking a traveller has never been this easy!\")\n",
    "        st.subheader(\"Pilot program based in Delhi-NCR :construction:\")\n",
    "    with rc:\n",
    "        st_lottie(lottie_url,height = 300,key =\"Travel\")\n",
    "        \n",
    "\n",
    "with st.container():\n",
    "    form = \"\"\"<form action=\"https://formsubmit.co/satyampuniya_pr@srmuniv.edu.in\" method=\"POST\">\n",
    "        <input type=\"text\" name=\"name\" placeholder=\"Your name\" required>\n",
    "        <input type=\"email\" name=\"email\" placeholder=\"Your email\" required>\n",
    "        <textarea name=\"message\" placeholder=\"Your message here\" required></textarea>\n",
    "        <button type=\"submit\">Send</button>\n",
    "    </form>\"\"\"\n",
    "    st.markdown(form, unsafe_allow_html = True)\n",
    "    \n",
    "#USE LOCAL CSS FILE\n",
    "\n",
    "#file_path = \"Users/anjupuniya/Downloads/WebApp/style.css\"\n",
    "\n",
    "\n",
    "def load_css():\n",
    "    with open(r'style.css') as f:\n",
    "        css = f'<style>{f.read()}</style>'\n",
    "    return css\n",
    "\n",
    "css = load_css()\n",
    "st.markdown(css, unsafe_allow_html=True)\n"
   ]
  },
  {
   "cell_type": "code",
   "execution_count": 2,
   "id": "63075047",
   "metadata": {},
   "outputs": [
    {
     "data": {
      "text/plain": [
       "['Untitled1.ipynb',\n",
       " '.DS_Store',\n",
       " 'Untitled.ipynb',\n",
       " 'style.css',\n",
       " 'u.py',\n",
       " '.ipynb_checkpoints']"
      ]
     },
     "execution_count": 2,
     "metadata": {},
     "output_type": "execute_result"
    }
   ],
   "source": [
    "os.listdir()"
   ]
  },
  {
   "cell_type": "code",
   "execution_count": 4,
   "id": "904769a3",
   "metadata": {},
   "outputs": [
    {
     "ename": "AttributeError",
     "evalue": "module 'os' has no attribute 'pwd'",
     "output_type": "error",
     "traceback": [
      "\u001b[0;31m---------------------------------------------------------------------------\u001b[0m",
      "\u001b[0;31mAttributeError\u001b[0m                            Traceback (most recent call last)",
      "Cell \u001b[0;32mIn[4], line 1\u001b[0m\n\u001b[0;32m----> 1\u001b[0m \u001b[43mos\u001b[49m\u001b[38;5;241;43m.\u001b[39;49m\u001b[43mpwd\u001b[49m()\n",
      "\u001b[0;31mAttributeError\u001b[0m: module 'os' has no attribute 'pwd'"
     ]
    }
   ],
   "source": [
    "os.pwd()"
   ]
  },
  {
   "cell_type": "code",
   "execution_count": 5,
   "id": "7c05940a",
   "metadata": {},
   "outputs": [
    {
     "ename": "FileNotFoundError",
     "evalue": "[Errno 2] No such file or directory: 'Users/anjupuniya/Downloads/WebApp/'",
     "output_type": "error",
     "traceback": [
      "\u001b[0;31m---------------------------------------------------------------------------\u001b[0m",
      "\u001b[0;31mFileNotFoundError\u001b[0m                         Traceback (most recent call last)",
      "Cell \u001b[0;32mIn[5], line 1\u001b[0m\n\u001b[0;32m----> 1\u001b[0m \u001b[43mos\u001b[49m\u001b[38;5;241;43m.\u001b[39;49m\u001b[43mchdir\u001b[49m\u001b[43m(\u001b[49m\u001b[38;5;124;43mr\u001b[39;49m\u001b[38;5;124;43m'\u001b[39;49m\u001b[38;5;124;43mUsers/anjupuniya/Downloads/WebApp/\u001b[39;49m\u001b[38;5;124;43m'\u001b[39;49m\u001b[43m)\u001b[49m\n\u001b[1;32m      2\u001b[0m file \u001b[38;5;241m=\u001b[39m \u001b[38;5;28mopen\u001b[39m(\u001b[38;5;124m'\u001b[39m\u001b[38;5;124mstyle.css\u001b[39m\u001b[38;5;124m'\u001b[39m)\n",
      "\u001b[0;31mFileNotFoundError\u001b[0m: [Errno 2] No such file or directory: 'Users/anjupuniya/Downloads/WebApp/'"
     ]
    }
   ],
   "source": [
    "os.chdir(r'Users/anjupuniya/Downloads/WebApp/')\n",
    "file = open('style.css')"
   ]
  },
  {
   "cell_type": "code",
   "execution_count": null,
   "id": "58cc1444",
   "metadata": {},
   "outputs": [],
   "source": []
  }
 ],
 "metadata": {
  "kernelspec": {
   "display_name": "Python 3 (ipykernel)",
   "language": "python",
   "name": "python3"
  },
  "language_info": {
   "codemirror_mode": {
    "name": "ipython",
    "version": 3
   },
   "file_extension": ".py",
   "mimetype": "text/x-python",
   "name": "python",
   "nbconvert_exporter": "python",
   "pygments_lexer": "ipython3",
   "version": "3.11.3"
  }
 },
 "nbformat": 4,
 "nbformat_minor": 5
}
