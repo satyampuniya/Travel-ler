{
 "cells": [
  {
   "cell_type": "code",
   "execution_count": null,
   "id": "63ee3a7e",
   "metadata": {},
   "outputs": [],
   "source": [
    "import requests\n",
    "from streamlit_lottie import st_lottie\n",
    "import streamlit as st\n",
    "\n",
    "st.set_page_config(page_title = \"Travel-ler\" , page_icon = \":minibus:\", layout = \"wide\")\n",
    "\n",
    "def get_lottie(url):\n",
    "    r = requests.get(url)\n",
    "    if r.status_code!=200:\n",
    "        return None\n",
    "    return r.json()\n",
    "\n",
    "#ASSET INVENTORY\n",
    "lottie_url = get_lottie(\"https://assets9.lottiefiles.com/packages/lf20_bhebjzpu.json\")\n",
    "\n",
    "#HEADER SECTION\n",
    "with st.container():\n",
    "    lc, rc = st.columns([3,2])\n",
    "    with lc:\n",
    "        st.title(\"Book a traveller with Travel-ler\")\n",
    "        st.write(\"Booking a traveller has never been this easy!\")\n",
    "        st.subheader(\"Pilot program based in Delhi-NCR :construction:\")\n",
    "    with rc:\n",
    "        st_lottie(lottie_url,height = 300,key =\"Travel\")\n",
    "        \n",
    "\n",
    "with st.container():\n",
    "    form = \"\"\"<form action=\"https://formsubmit.co/satyampuniya_pr@srmuniv.edu.in\" method=\"POST\">\n",
    "         <input type=\"text\" name=\"name\" placeholder=\"Your Name\" required>\n",
    "         <input type=\"tel\" name=\"nmbr\" pattern=\"[0-9]{10}\" placeholder=\"Phone Number\">\n",
    "         <input type=\"date\" name=\"start_date\" placeholder=\"Your Name\" required>\n",
    "         <input type=\"date\" name=\"end_date\" placeholder=\"Your Name\" required>\n",
    "         <button type=\"submit\">Send</button>\n",
    "         </form>\"\"\"\n",
    "    st.markdown(form, unsafe_allow_html = True)\n",
    "    \n",
    "#USE LOCAL CSS FILE\n",
    "\n",
    "def local_css(file):\n",
    "    with open(file) as f:\n",
    "        st.markdown(f\"<style>{f.read()}</style>\",unsafe_allow_html = True)\n",
    "        \n",
    "local_css(\"Desktop/WebApp/style/style.css\")"
   ]
  },
  {
   "cell_type": "code",
   "execution_count": null,
   "id": "e6ca8997",
   "metadata": {},
   "outputs": [],
   "source": []
  }
 ],
 "metadata": {
  "kernelspec": {
   "display_name": "Python 3 (ipykernel)",
   "language": "python",
   "name": "python3"
  },
  "language_info": {
   "codemirror_mode": {
    "name": "ipython",
    "version": 3
   },
   "file_extension": ".py",
   "mimetype": "text/x-python",
   "name": "python",
   "nbconvert_exporter": "python",
   "pygments_lexer": "ipython3",
   "version": "3.11.3"
  }
 },
 "nbformat": 4,
 "nbformat_minor": 5
}
